{
 "cells": [
  {
   "cell_type": "markdown",
   "metadata": {},
   "source": [
    "# Lending Club Case Study"
   ]
  },
  {
   "cell_type": "markdown",
   "metadata": {},
   "source": [
    "### Objective of the case study is to identify risky loan applicants. Risky loan applicants of are the borrowers who refuse to pay. They are labelled as Charged-Off and are the defaulters. \n",
    "### Aim of the study is to indentify the factors which may cause the loan applicants to default."
   ]
  },
  {
   "cell_type": "markdown",
   "metadata": {},
   "source": [
    "### Import the loan dataset"
   ]
  },
  {
   "cell_type": "code",
   "execution_count": 103,
   "metadata": {},
   "outputs": [],
   "source": [
    "# import libs\n",
    "import pandas as pd\n",
    "import matplotlib.pyplot as plt\n",
    "import seaborn as sns\n",
    "\n",
    "import warnings\n",
    "warnings.filterwarnings('ignore')\n",
    "\n",
    "pd.set_option('display.max_rows', 5000)\n",
    "pd.set_option('display.max_columns', 5000)\n",
    "pd.set_option('display.width', 10000)\n",
    "\n",
    "\n",
    "# load dataset\n",
    "loan_df = pd.read_csv(\"loan.csv\", low_memory=False);"
   ]
  },
  {
   "cell_type": "markdown",
   "metadata": {},
   "source": [
    "### Inspect dataset"
   ]
  },
  {
   "cell_type": "code",
   "execution_count": 104,
   "metadata": {},
   "outputs": [
    {
     "name": "stdout",
     "output_type": "stream",
     "text": [
      "<class 'pandas.core.frame.DataFrame'>\n",
      "RangeIndex: 39717 entries, 0 to 39716\n",
      "Data columns (total 111 columns):\n",
      " #    Column                          Dtype  \n",
      "---   ------                          -----  \n",
      " 0    id                              int64  \n",
      " 1    member_id                       int64  \n",
      " 2    loan_amnt                       int64  \n",
      " 3    funded_amnt                     int64  \n",
      " 4    funded_amnt_inv                 float64\n",
      " 5    term                            object \n",
      " 6    int_rate                        object \n",
      " 7    installment                     float64\n",
      " 8    grade                           object \n",
      " 9    sub_grade                       object \n",
      " 10   emp_title                       object \n",
      " 11   emp_length                      object \n",
      " 12   home_ownership                  object \n",
      " 13   annual_inc                      float64\n",
      " 14   verification_status             object \n",
      " 15   issue_d                         object \n",
      " 16   loan_status                     object \n",
      " 17   pymnt_plan                      object \n",
      " 18   url                             object \n",
      " 19   desc                            object \n",
      " 20   purpose                         object \n",
      " 21   title                           object \n",
      " 22   zip_code                        object \n",
      " 23   addr_state                      object \n",
      " 24   dti                             float64\n",
      " 25   delinq_2yrs                     int64  \n",
      " 26   earliest_cr_line                object \n",
      " 27   inq_last_6mths                  int64  \n",
      " 28   mths_since_last_delinq          float64\n",
      " 29   mths_since_last_record          float64\n",
      " 30   open_acc                        int64  \n",
      " 31   pub_rec                         int64  \n",
      " 32   revol_bal                       int64  \n",
      " 33   revol_util                      object \n",
      " 34   total_acc                       int64  \n",
      " 35   initial_list_status             object \n",
      " 36   out_prncp                       float64\n",
      " 37   out_prncp_inv                   float64\n",
      " 38   total_pymnt                     float64\n",
      " 39   total_pymnt_inv                 float64\n",
      " 40   total_rec_prncp                 float64\n",
      " 41   total_rec_int                   float64\n",
      " 42   total_rec_late_fee              float64\n",
      " 43   recoveries                      float64\n",
      " 44   collection_recovery_fee         float64\n",
      " 45   last_pymnt_d                    object \n",
      " 46   last_pymnt_amnt                 float64\n",
      " 47   next_pymnt_d                    object \n",
      " 48   last_credit_pull_d              object \n",
      " 49   collections_12_mths_ex_med      float64\n",
      " 50   mths_since_last_major_derog     float64\n",
      " 51   policy_code                     int64  \n",
      " 52   application_type                object \n",
      " 53   annual_inc_joint                float64\n",
      " 54   dti_joint                       float64\n",
      " 55   verification_status_joint       float64\n",
      " 56   acc_now_delinq                  int64  \n",
      " 57   tot_coll_amt                    float64\n",
      " 58   tot_cur_bal                     float64\n",
      " 59   open_acc_6m                     float64\n",
      " 60   open_il_6m                      float64\n",
      " 61   open_il_12m                     float64\n",
      " 62   open_il_24m                     float64\n",
      " 63   mths_since_rcnt_il              float64\n",
      " 64   total_bal_il                    float64\n",
      " 65   il_util                         float64\n",
      " 66   open_rv_12m                     float64\n",
      " 67   open_rv_24m                     float64\n",
      " 68   max_bal_bc                      float64\n",
      " 69   all_util                        float64\n",
      " 70   total_rev_hi_lim                float64\n",
      " 71   inq_fi                          float64\n",
      " 72   total_cu_tl                     float64\n",
      " 73   inq_last_12m                    float64\n",
      " 74   acc_open_past_24mths            float64\n",
      " 75   avg_cur_bal                     float64\n",
      " 76   bc_open_to_buy                  float64\n",
      " 77   bc_util                         float64\n",
      " 78   chargeoff_within_12_mths        float64\n",
      " 79   delinq_amnt                     int64  \n",
      " 80   mo_sin_old_il_acct              float64\n",
      " 81   mo_sin_old_rev_tl_op            float64\n",
      " 82   mo_sin_rcnt_rev_tl_op           float64\n",
      " 83   mo_sin_rcnt_tl                  float64\n",
      " 84   mort_acc                        float64\n",
      " 85   mths_since_recent_bc            float64\n",
      " 86   mths_since_recent_bc_dlq        float64\n",
      " 87   mths_since_recent_inq           float64\n",
      " 88   mths_since_recent_revol_delinq  float64\n",
      " 89   num_accts_ever_120_pd           float64\n",
      " 90   num_actv_bc_tl                  float64\n",
      " 91   num_actv_rev_tl                 float64\n",
      " 92   num_bc_sats                     float64\n",
      " 93   num_bc_tl                       float64\n",
      " 94   num_il_tl                       float64\n",
      " 95   num_op_rev_tl                   float64\n",
      " 96   num_rev_accts                   float64\n",
      " 97   num_rev_tl_bal_gt_0             float64\n",
      " 98   num_sats                        float64\n",
      " 99   num_tl_120dpd_2m                float64\n",
      " 100  num_tl_30dpd                    float64\n",
      " 101  num_tl_90g_dpd_24m              float64\n",
      " 102  num_tl_op_past_12m              float64\n",
      " 103  pct_tl_nvr_dlq                  float64\n",
      " 104  percent_bc_gt_75                float64\n",
      " 105  pub_rec_bankruptcies            float64\n",
      " 106  tax_liens                       float64\n",
      " 107  tot_hi_cred_lim                 float64\n",
      " 108  total_bal_ex_mort               float64\n",
      " 109  total_bc_limit                  float64\n",
      " 110  total_il_high_credit_limit      float64\n",
      "dtypes: float64(74), int64(13), object(24)\n",
      "memory usage: 33.6+ MB\n",
      "None\n",
      "        id  member_id  loan_amnt  funded_amnt  funded_amnt_inv        term int_rate  installment grade sub_grade                 emp_title emp_length home_ownership  annual_inc verification_status issue_d  loan_status pymnt_plan                                                url                                               desc         purpose                 title zip_code addr_state    dti  delinq_2yrs earliest_cr_line  inq_last_6mths  mths_since_last_delinq  mths_since_last_record  open_acc  pub_rec  revol_bal revol_util  total_acc initial_list_status  out_prncp  out_prncp_inv   total_pymnt  total_pymnt_inv  total_rec_prncp  total_rec_int  total_rec_late_fee  recoveries  collection_recovery_fee last_pymnt_d  last_pymnt_amnt next_pymnt_d last_credit_pull_d  collections_12_mths_ex_med  mths_since_last_major_derog  policy_code application_type  annual_inc_joint  dti_joint  verification_status_joint  acc_now_delinq  tot_coll_amt  tot_cur_bal  open_acc_6m  open_il_6m  open_il_12m  open_il_24m  mths_since_rcnt_il  total_bal_il  il_util  open_rv_12m  open_rv_24m  max_bal_bc  all_util  total_rev_hi_lim  inq_fi  total_cu_tl  inq_last_12m  acc_open_past_24mths  avg_cur_bal  bc_open_to_buy  bc_util  chargeoff_within_12_mths  delinq_amnt  mo_sin_old_il_acct  mo_sin_old_rev_tl_op  mo_sin_rcnt_rev_tl_op  mo_sin_rcnt_tl  mort_acc  mths_since_recent_bc  mths_since_recent_bc_dlq  mths_since_recent_inq  mths_since_recent_revol_delinq  num_accts_ever_120_pd  num_actv_bc_tl  num_actv_rev_tl  num_bc_sats  num_bc_tl  num_il_tl  num_op_rev_tl  num_rev_accts  num_rev_tl_bal_gt_0  num_sats  num_tl_120dpd_2m  num_tl_30dpd  num_tl_90g_dpd_24m  num_tl_op_past_12m  pct_tl_nvr_dlq  percent_bc_gt_75  pub_rec_bankruptcies  tax_liens  tot_hi_cred_lim  total_bal_ex_mort  total_bc_limit  total_il_high_credit_limit\n",
      "0  1077501    1296599       5000         5000           4975.0   36 months   10.65%       162.87     B        B2                       NaN  10+ years           RENT     24000.0            Verified  Dec-11   Fully Paid          n  https://lendingclub.com/browse/loanDetail.acti...    Borrower added on 12/22/11 > I need to upgra...     credit_card              Computer    860xx         AZ  27.65            0           Jan-85               1                     NaN                     NaN         3        0      13648     83.70%          9                   f       0.00           0.00   5863.155187          5833.84          5000.00         863.16                0.00        0.00                     0.00       Jan-15           171.62          NaN             May-16                         0.0                          NaN            1       INDIVIDUAL               NaN        NaN                        NaN               0           NaN          NaN          NaN         NaN          NaN          NaN                 NaN           NaN      NaN          NaN          NaN         NaN       NaN               NaN     NaN          NaN           NaN                   NaN          NaN             NaN      NaN                       0.0            0                 NaN                   NaN                    NaN             NaN       NaN                   NaN                       NaN                    NaN                             NaN                    NaN             NaN              NaN          NaN        NaN        NaN            NaN            NaN                  NaN       NaN               NaN           NaN                 NaN                 NaN             NaN               NaN                   0.0        0.0              NaN                NaN             NaN                         NaN\n",
      "1  1077430    1314167       2500         2500           2500.0   60 months   15.27%        59.83     C        C4                     Ryder   < 1 year           RENT     30000.0     Source Verified  Dec-11  Charged Off          n  https://lendingclub.com/browse/loanDetail.acti...    Borrower added on 12/22/11 > I plan to use t...             car                  bike    309xx         GA   1.00            0           Apr-99               5                     NaN                     NaN         3        0       1687      9.40%          4                   f       0.00           0.00   1008.710000          1008.71           456.46         435.17                0.00      117.08                     1.11       Apr-13           119.66          NaN             Sep-13                         0.0                          NaN            1       INDIVIDUAL               NaN        NaN                        NaN               0           NaN          NaN          NaN         NaN          NaN          NaN                 NaN           NaN      NaN          NaN          NaN         NaN       NaN               NaN     NaN          NaN           NaN                   NaN          NaN             NaN      NaN                       0.0            0                 NaN                   NaN                    NaN             NaN       NaN                   NaN                       NaN                    NaN                             NaN                    NaN             NaN              NaN          NaN        NaN        NaN            NaN            NaN                  NaN       NaN               NaN           NaN                 NaN                 NaN             NaN               NaN                   0.0        0.0              NaN                NaN             NaN                         NaN\n",
      "2  1077175    1313524       2400         2400           2400.0   36 months   15.96%        84.33     C        C5                       NaN  10+ years           RENT     12252.0        Not Verified  Dec-11   Fully Paid          n  https://lendingclub.com/browse/loanDetail.acti...                                                NaN  small_business  real estate business    606xx         IL   8.72            0           Nov-01               2                     NaN                     NaN         2        0       2956     98.50%         10                   f       0.00           0.00   3005.666844          3005.67          2400.00         605.67                0.00        0.00                     0.00       Jun-14           649.91          NaN             May-16                         0.0                          NaN            1       INDIVIDUAL               NaN        NaN                        NaN               0           NaN          NaN          NaN         NaN          NaN          NaN                 NaN           NaN      NaN          NaN          NaN         NaN       NaN               NaN     NaN          NaN           NaN                   NaN          NaN             NaN      NaN                       0.0            0                 NaN                   NaN                    NaN             NaN       NaN                   NaN                       NaN                    NaN                             NaN                    NaN             NaN              NaN          NaN        NaN        NaN            NaN            NaN                  NaN       NaN               NaN           NaN                 NaN                 NaN             NaN               NaN                   0.0        0.0              NaN                NaN             NaN                         NaN\n",
      "3  1076863    1277178      10000        10000          10000.0   36 months   13.49%       339.31     C        C1       AIR RESOURCES BOARD  10+ years           RENT     49200.0     Source Verified  Dec-11   Fully Paid          n  https://lendingclub.com/browse/loanDetail.acti...    Borrower added on 12/21/11 > to pay for prop...           other              personel    917xx         CA  20.00            0           Feb-96               1                    35.0                     NaN        10        0       5598        21%         37                   f       0.00           0.00  12231.890000         12231.89         10000.00        2214.92               16.97        0.00                     0.00       Jan-15           357.48          NaN             Apr-16                         0.0                          NaN            1       INDIVIDUAL               NaN        NaN                        NaN               0           NaN          NaN          NaN         NaN          NaN          NaN                 NaN           NaN      NaN          NaN          NaN         NaN       NaN               NaN     NaN          NaN           NaN                   NaN          NaN             NaN      NaN                       0.0            0                 NaN                   NaN                    NaN             NaN       NaN                   NaN                       NaN                    NaN                             NaN                    NaN             NaN              NaN          NaN        NaN        NaN            NaN            NaN                  NaN       NaN               NaN           NaN                 NaN                 NaN             NaN               NaN                   0.0        0.0              NaN                NaN             NaN                         NaN\n",
      "4  1075358    1311748       3000         3000           3000.0   60 months   12.69%        67.79     B        B5  University Medical Group     1 year           RENT     80000.0     Source Verified  Dec-11      Current          n  https://lendingclub.com/browse/loanDetail.acti...    Borrower added on 12/21/11 > I plan on combi...           other              Personal    972xx         OR  17.94            0           Jan-96               0                    38.0                     NaN        15        0      27783     53.90%         38                   f     524.06         524.06   3513.330000          3513.33          2475.94        1037.39                0.00        0.00                     0.00       May-16            67.79       Jun-16             May-16                         0.0                          NaN            1       INDIVIDUAL               NaN        NaN                        NaN               0           NaN          NaN          NaN         NaN          NaN          NaN                 NaN           NaN      NaN          NaN          NaN         NaN       NaN               NaN     NaN          NaN           NaN                   NaN          NaN             NaN      NaN                       0.0            0                 NaN                   NaN                    NaN             NaN       NaN                   NaN                       NaN                    NaN                             NaN                    NaN             NaN              NaN          NaN        NaN        NaN            NaN            NaN                  NaN       NaN               NaN           NaN                 NaN                 NaN             NaN               NaN                   0.0        0.0              NaN                NaN             NaN                         NaN\n"
     ]
    }
   ],
   "source": [
    "\n",
    "print(loan_df.info(verbose=1));\n",
    "print(loan_df.head());"
   ]
  },
  {
   "cell_type": "markdown",
   "metadata": {},
   "source": [
    "### find the percentage of NA values in each column\n"
   ]
  },
  {
   "cell_type": "code",
   "execution_count": 105,
   "metadata": {},
   "outputs": [
    {
     "name": "stdout",
     "output_type": "stream",
     "text": [
      "num_il_tl                         100.000000\n",
      "num_bc_sats                       100.000000\n",
      "num_bc_tl                         100.000000\n",
      "num_actv_bc_tl                    100.000000\n",
      "num_accts_ever_120_pd             100.000000\n",
      "mths_since_recent_revol_delinq    100.000000\n",
      "num_actv_rev_tl                   100.000000\n",
      "mths_since_recent_inq             100.000000\n",
      "num_tl_90g_dpd_24m                100.000000\n",
      "num_tl_30dpd                      100.000000\n",
      "num_tl_120dpd_2m                  100.000000\n",
      "num_sats                          100.000000\n",
      "num_rev_tl_bal_gt_0               100.000000\n",
      "num_rev_accts                     100.000000\n",
      "pct_tl_nvr_dlq                    100.000000\n",
      "mo_sin_old_il_acct                100.000000\n",
      "mo_sin_old_rev_tl_op              100.000000\n",
      "mo_sin_rcnt_rev_tl_op             100.000000\n",
      "mo_sin_rcnt_tl                    100.000000\n",
      "mths_since_recent_bc              100.000000\n",
      "mort_acc                          100.000000\n",
      "mths_since_recent_bc_dlq          100.000000\n",
      "bc_util                           100.000000\n",
      "total_rev_hi_lim                  100.000000\n",
      "all_util                          100.000000\n",
      "bc_open_to_buy                    100.000000\n",
      "avg_cur_bal                       100.000000\n",
      "acc_open_past_24mths              100.000000\n",
      "inq_last_12m                      100.000000\n",
      "total_cu_tl                       100.000000\n",
      "inq_fi                            100.000000\n",
      "mths_since_rcnt_il                100.000000\n",
      "total_bal_il                      100.000000\n",
      "il_util                           100.000000\n",
      "open_rv_12m                       100.000000\n",
      "open_rv_24m                       100.000000\n",
      "max_bal_bc                        100.000000\n",
      "open_il_6m                        100.000000\n",
      "open_il_24m                       100.000000\n",
      "verification_status_joint         100.000000\n",
      "tot_coll_amt                      100.000000\n",
      "tot_cur_bal                       100.000000\n",
      "open_acc_6m                       100.000000\n",
      "open_il_12m                       100.000000\n",
      "annual_inc_joint                  100.000000\n",
      "dti_joint                         100.000000\n",
      "mths_since_last_major_derog       100.000000\n",
      "total_bc_limit                    100.000000\n",
      "percent_bc_gt_75                  100.000000\n",
      "total_bal_ex_mort                 100.000000\n",
      "tot_hi_cred_lim                   100.000000\n",
      "total_il_high_credit_limit        100.000000\n",
      "num_tl_op_past_12m                100.000000\n",
      "num_op_rev_tl                     100.000000\n",
      "next_pymnt_d                       97.129693\n",
      "mths_since_last_record             92.985372\n",
      "mths_since_last_delinq             64.662487\n",
      "desc                               32.585543\n",
      "emp_title                           6.191303\n",
      "emp_length                          2.706650\n",
      "pub_rec_bankruptcies                1.754916\n",
      "last_pymnt_d                        0.178765\n",
      "chargeoff_within_12_mths            0.140998\n",
      "collections_12_mths_ex_med          0.140998\n",
      "revol_util                          0.125891\n",
      "tax_liens                           0.098195\n",
      "title                               0.027696\n",
      "last_credit_pull_d                  0.005036\n",
      "total_rec_prncp                     0.000000\n",
      "total_pymnt_inv                     0.000000\n",
      "total_rec_int                       0.000000\n",
      "last_pymnt_amnt                     0.000000\n",
      "collection_recovery_fee             0.000000\n",
      "recoveries                          0.000000\n",
      "total_rec_late_fee                  0.000000\n",
      "sub_grade                           0.000000\n",
      "home_ownership                      0.000000\n",
      "annual_inc                          0.000000\n",
      "verification_status                 0.000000\n",
      "loan_amnt                           0.000000\n",
      "member_id                           0.000000\n",
      "funded_amnt_inv                     0.000000\n",
      "funded_amnt                         0.000000\n",
      "id                                  0.000000\n",
      "int_rate                            0.000000\n",
      "term                                0.000000\n",
      "total_pymnt                         0.000000\n",
      "total_acc                           0.000000\n",
      "out_prncp_inv                       0.000000\n",
      "out_prncp                           0.000000\n",
      "initial_list_status                 0.000000\n",
      "pub_rec                             0.000000\n",
      "revol_bal                           0.000000\n",
      "inq_last_6mths                      0.000000\n",
      "open_acc                            0.000000\n",
      "loan_status                         0.000000\n",
      "issue_d                             0.000000\n",
      "delinq_2yrs                         0.000000\n",
      "earliest_cr_line                    0.000000\n",
      "dti                                 0.000000\n",
      "addr_state                          0.000000\n",
      "purpose                             0.000000\n",
      "zip_code                            0.000000\n",
      "pymnt_plan                          0.000000\n",
      "url                                 0.000000\n",
      "grade                               0.000000\n",
      "installment                         0.000000\n",
      "policy_code                         0.000000\n",
      "application_type                    0.000000\n",
      "acc_now_delinq                      0.000000\n",
      "delinq_amnt                         0.000000\n",
      "dtype: float64\n"
     ]
    }
   ],
   "source": [
    "missing_vals = (loan_df.isna().mean()*100).sort_values(ascending=False);\n",
    "print(missing_vals);"
   ]
  },
  {
   "cell_type": "markdown",
   "metadata": {},
   "source": [
    "### remove columns with > 30% missing data"
   ]
  },
  {
   "cell_type": "code",
   "execution_count": 106,
   "metadata": {},
   "outputs": [],
   "source": [
    "loan_df = loan_df.loc[:, missing_vals < 30]\n"
   ]
  },
  {
   "cell_type": "markdown",
   "metadata": {},
   "source": [
    "### On a quick inspection of the CSV, it was observed that few columns had only zeroes. Checking if indeed it was the case"
   ]
  },
  {
   "cell_type": "code",
   "execution_count": 107,
   "metadata": {},
   "outputs": [
    {
     "name": "stdout",
     "output_type": "stream",
     "text": [
      "Index(['collections_12_mths_ex_med', 'acc_now_delinq', 'chargeoff_within_12_mths', 'delinq_amnt', 'tax_liens'], dtype='object')\n"
     ]
    }
   ],
   "source": [
    "cols_with_zero_vals = loan_df.columns[loan_df.any() == False]\n",
    "print(cols_with_zero_vals)"
   ]
  },
  {
   "cell_type": "markdown",
   "metadata": {},
   "source": [
    "### Remove the columns with only zeroes and check the shape\n"
   ]
  },
  {
   "cell_type": "code",
   "execution_count": 108,
   "metadata": {},
   "outputs": [],
   "source": [
    "loan_df.drop(cols_with_zero_vals, axis=1, inplace=True)\n"
   ]
  },
  {
   "cell_type": "code",
   "execution_count": 109,
   "metadata": {},
   "outputs": [
    {
     "name": "stdout",
     "output_type": "stream",
     "text": [
      "                 id     member_id     loan_amnt   funded_amnt  funded_amnt_inv   installment    annual_inc           dti   delinq_2yrs  inq_last_6mths      open_acc       pub_rec      revol_bal     total_acc     out_prncp  out_prncp_inv   total_pymnt  total_pymnt_inv  total_rec_prncp  total_rec_int  total_rec_late_fee    recoveries  collection_recovery_fee  last_pymnt_amnt  policy_code  pub_rec_bankruptcies\n",
      "count  3.971700e+04  3.971700e+04  39717.000000  39717.000000     39717.000000  39717.000000  3.971700e+04  39717.000000  39717.000000    39717.000000  39717.000000  39717.000000   39717.000000  39717.000000  39717.000000   39717.000000  39717.000000     39717.000000     39717.000000   39717.000000        39717.000000  39717.000000             39717.000000     39717.000000      39717.0          39020.000000\n",
      "mean   6.831319e+05  8.504636e+05  11219.443815  10947.713196     10397.448868    324.561922  6.896893e+04     13.315130      0.146512        0.869200      9.294408      0.055065   13382.528086     22.088828     51.227887      50.989768  12153.596544     11567.149118      9793.348813    2263.663172            1.363015     95.221624                12.406112      2678.826162          1.0              0.043260\n",
      "std    2.106941e+05  2.656783e+05   7456.670694   7187.238670      7128.450439    208.874874  6.379377e+04      6.678594      0.491812        1.070219      4.400282      0.237200   15885.016641     11.401709    375.172839     373.824457   9042.040766      8942.672613      7065.522127    2608.111964            7.289979    688.744771               148.671593      4447.136012          0.0              0.204324\n",
      "min    5.473400e+04  7.069900e+04    500.000000    500.000000         0.000000     15.690000  4.000000e+03      0.000000      0.000000        0.000000      2.000000      0.000000       0.000000      2.000000      0.000000       0.000000      0.000000         0.000000         0.000000       0.000000            0.000000      0.000000                 0.000000         0.000000          1.0              0.000000\n",
      "25%    5.162210e+05  6.667800e+05   5500.000000   5400.000000      5000.000000    167.020000  4.040400e+04      8.170000      0.000000        0.000000      6.000000      0.000000    3703.000000     13.000000      0.000000       0.000000   5576.930000      5112.310000      4600.000000     662.180000            0.000000      0.000000                 0.000000       218.680000          1.0              0.000000\n",
      "50%    6.656650e+05  8.508120e+05  10000.000000   9600.000000      8975.000000    280.220000  5.900000e+04     13.400000      0.000000        1.000000      9.000000      0.000000    8850.000000     20.000000      0.000000       0.000000   9899.640319      9287.150000      8000.000000    1348.910000            0.000000      0.000000                 0.000000       546.140000          1.0              0.000000\n",
      "75%    8.377550e+05  1.047339e+06  15000.000000  15000.000000     14400.000000    430.780000  8.230000e+04     18.600000      0.000000        1.000000     12.000000      0.000000   17058.000000     29.000000      0.000000       0.000000  16534.433040     15798.810000     13653.260000    2833.400000            0.000000      0.000000                 0.000000      3293.160000          1.0              0.000000\n",
      "max    1.077501e+06  1.314167e+06  35000.000000  35000.000000     35000.000000   1305.190000  6.000000e+06     29.990000     11.000000        8.000000     44.000000      4.000000  149588.000000     90.000000   6311.470000    6307.370000  58563.679930     58563.680000     35000.020000   23563.680000          180.200000  29623.350000              7002.190000     36115.200000          1.0              2.000000\n",
      "<class 'pandas.core.frame.DataFrame'>\n",
      "RangeIndex: 39717 entries, 0 to 39716\n",
      "Data columns (total 48 columns):\n",
      " #   Column                   Non-Null Count  Dtype  \n",
      "---  ------                   --------------  -----  \n",
      " 0   id                       39717 non-null  int64  \n",
      " 1   member_id                39717 non-null  int64  \n",
      " 2   loan_amnt                39717 non-null  int64  \n",
      " 3   funded_amnt              39717 non-null  int64  \n",
      " 4   funded_amnt_inv          39717 non-null  float64\n",
      " 5   term                     39717 non-null  object \n",
      " 6   int_rate                 39717 non-null  object \n",
      " 7   installment              39717 non-null  float64\n",
      " 8   grade                    39717 non-null  object \n",
      " 9   sub_grade                39717 non-null  object \n",
      " 10  emp_title                37258 non-null  object \n",
      " 11  emp_length               38642 non-null  object \n",
      " 12  home_ownership           39717 non-null  object \n",
      " 13  annual_inc               39717 non-null  float64\n",
      " 14  verification_status      39717 non-null  object \n",
      " 15  issue_d                  39717 non-null  object \n",
      " 16  loan_status              39717 non-null  object \n",
      " 17  pymnt_plan               39717 non-null  object \n",
      " 18  url                      39717 non-null  object \n",
      " 19  purpose                  39717 non-null  object \n",
      " 20  title                    39706 non-null  object \n",
      " 21  zip_code                 39717 non-null  object \n",
      " 22  addr_state               39717 non-null  object \n",
      " 23  dti                      39717 non-null  float64\n",
      " 24  delinq_2yrs              39717 non-null  int64  \n",
      " 25  earliest_cr_line         39717 non-null  object \n",
      " 26  inq_last_6mths           39717 non-null  int64  \n",
      " 27  open_acc                 39717 non-null  int64  \n",
      " 28  pub_rec                  39717 non-null  int64  \n",
      " 29  revol_bal                39717 non-null  int64  \n",
      " 30  revol_util               39667 non-null  object \n",
      " 31  total_acc                39717 non-null  int64  \n",
      " 32  initial_list_status      39717 non-null  object \n",
      " 33  out_prncp                39717 non-null  float64\n",
      " 34  out_prncp_inv            39717 non-null  float64\n",
      " 35  total_pymnt              39717 non-null  float64\n",
      " 36  total_pymnt_inv          39717 non-null  float64\n",
      " 37  total_rec_prncp          39717 non-null  float64\n",
      " 38  total_rec_int            39717 non-null  float64\n",
      " 39  total_rec_late_fee       39717 non-null  float64\n",
      " 40  recoveries               39717 non-null  float64\n",
      " 41  collection_recovery_fee  39717 non-null  float64\n",
      " 42  last_pymnt_d             39646 non-null  object \n",
      " 43  last_pymnt_amnt          39717 non-null  float64\n",
      " 44  last_credit_pull_d       39715 non-null  object \n",
      " 45  policy_code              39717 non-null  int64  \n",
      " 46  application_type         39717 non-null  object \n",
      " 47  pub_rec_bankruptcies     39020 non-null  float64\n",
      "dtypes: float64(15), int64(11), object(22)\n",
      "memory usage: 14.5+ MB\n",
      "None\n"
     ]
    }
   ],
   "source": [
    "# inspect data \n",
    "print(loan_df.describe())\n",
    "print(loan_df.info(verbose=1))"
   ]
  },
  {
   "cell_type": "markdown",
   "metadata": {},
   "source": [
    "### For analysis, we need to analyse the data points applicable during loan application. Which are below:\n",
    "<ol>\n",
    "    <li>loan_amnt amount listed by the burrower. A very high amount may 'risky' </li>\n",
    "    <li>funded_amnt</li>\n",
    "    <li>funded_amnt_inv: Amount committed to a loan may be a driving factor</li>\n",
    "    <li>term: No of payments on the loan</li>\n",
    "    <li>int_rate: loan interest</li>\n",
    "    <li>installment: the monthly payment</li>\n",
    "    <li>grade</li>\n",
    "    <li>sub_grade: assigning a quality score to a loan based on a borrower's credit history</li>\n",
    "    <li>emp_length: Employment length in years.</li>\n",
    "    <li>home_ownership: applicant's home ownership status</li>\n",
    "    <li>annual_inc: annual income provided by the borrower</li>\n",
    "    <li>verification_status: if income verified by LC</li>\n",
    "    <li>loan_status: loan's current status</li>\n",
    "    <li>pymnt_plan: loan's payment plan</li>\n",
    "    <li>purpose: category provided by the borrower for the loan request. </li>\n",
    "    <li>title: The loan title provided by the borrower</li>\n",
    "    <li>dti: monthly debt payments to  monthly income ratio</li>\n",
    "    <li>earliest_cr_line: when customer's first credit line was opened</li>\n",
    "    <li>inq_last_6mths: inquiries in last six months</li>\n",
    "    <li>open_acc: no of open credit lines</li>\n",
    "    <li>pub_rec: no of public derogatory records</li>\n",
    "    <li>total_acc:  total number of credit lines currently in the borrower's credit file</li>\n",
    "    <li>pub_rec_bankruptcies: Number of public record bankruptcies</li>\n",
    "    <li>issue_d: Loan issue date</li>\n",
    "<ol>"
   ]
  },
  {
   "cell_type": "code",
   "execution_count": 110,
   "metadata": {},
   "outputs": [
    {
     "name": "stdout",
     "output_type": "stream",
     "text": [
      "(39717, 25)\n"
     ]
    }
   ],
   "source": [
    "cols_to_keep = ['loan_amnt', 'funded_amnt', 'funded_amnt_inv', 'term', 'int_rate', 'installment', 'grade', 'sub_grade' , 'emp_length', 'home_ownership', 'annual_inc', 'verification_status', 'loan_status', 'pymnt_plan', 'purpose', 'title', 'dti', 'earliest_cr_line', 'inq_last_6mths', 'open_acc', 'pub_rec', 'total_acc', 'pub_rec_bankruptcies', 'issue_d']\n",
    "loan_df = loan_df.loc[:, cols_to_keep]\n",
    "print(loan_df.shape)"
   ]
  },
  {
   "cell_type": "markdown",
   "metadata": {},
   "source": [
    "### NA values after removing columns with > 30% missing values in clean dataset"
   ]
  },
  {
   "cell_type": "code",
   "execution_count": 111,
   "metadata": {},
   "outputs": [
    {
     "name": "stdout",
     "output_type": "stream",
     "text": [
      "emp_length              2.706650\n",
      "pub_rec_bankruptcies    1.754916\n",
      "title                   0.027696\n",
      "loan_amnt               0.000000\n",
      "funded_amnt             0.000000\n",
      "int_rate                0.000000\n",
      "installment             0.000000\n",
      "term                    0.000000\n",
      "funded_amnt_inv         0.000000\n",
      "sub_grade               0.000000\n",
      "grade                   0.000000\n",
      "verification_status     0.000000\n",
      "home_ownership          0.000000\n",
      "loan_status             0.000000\n",
      "pymnt_plan              0.000000\n",
      "purpose                 0.000000\n",
      "annual_inc              0.000000\n",
      "dti                     0.000000\n",
      "earliest_cr_line        0.000000\n",
      "open_acc                0.000000\n",
      "inq_last_6mths          0.000000\n",
      "pub_rec                 0.000000\n",
      "total_acc               0.000000\n",
      "issue_d                 0.000000\n",
      "application_type        0.000000\n",
      "dtype: float64\n"
     ]
    }
   ],
   "source": [
    "missing_vals = (loan_df.isna().mean()*100).sort_values(ascending=False);\n",
    "print(missing_vals);"
   ]
  },
  {
   "cell_type": "markdown",
   "metadata": {},
   "source": [
    "### handle missing values"
   ]
  },
  {
   "cell_type": "code",
   "execution_count": 112,
   "metadata": {},
   "outputs": [],
   "source": [
    "# in emp_length column\n",
    "loan_df['emp_length'] = loan_df['emp_length'].fillna(loan_df['emp_length'].mode()[0])\n",
    "\n",
    "# pub_rec_bankruptcies\n",
    "loan_df['pub_rec_bankruptcies'] = loan_df['pub_rec_bankruptcies'].fillna(loan_df['pub_rec_bankruptcies'].median())\n",
    "\n",
    "# title\n",
    "loan_df['title'] = loan_df['title'].fillna(loan_df['title'].mode()[0])\n"
   ]
  },
  {
   "cell_type": "markdown",
   "metadata": {},
   "source": [
    "### select columns with datatype = object and inspect their sample data"
   ]
  },
  {
   "cell_type": "code",
   "execution_count": 113,
   "metadata": {},
   "outputs": [
    {
     "name": "stdout",
     "output_type": "stream",
     "text": [
      "---------------------------------------------------------------------------------------------------------\n",
      "\n",
      "sample data in column  term \n",
      "\n",
      "0     36 months\n",
      "1     60 months\n",
      "2     36 months\n",
      "3     36 months\n",
      "4     60 months\n",
      "5     36 months\n",
      "6     60 months\n",
      "7     36 months\n",
      "8     60 months\n",
      "9     60 months\n",
      "Name: term, dtype: object\n",
      "---------------------------------------------------------------------------------------------------------\n",
      "\n",
      "sample data in column  int_rate \n",
      "\n",
      "0    10.65%\n",
      "1    15.27%\n",
      "2    15.96%\n",
      "3    13.49%\n",
      "4    12.69%\n",
      "5     7.90%\n",
      "6    15.96%\n",
      "7    18.64%\n",
      "8    21.28%\n",
      "9    12.69%\n",
      "Name: int_rate, dtype: object\n",
      "---------------------------------------------------------------------------------------------------------\n",
      "\n",
      "sample data in column  grade \n",
      "\n",
      "0    B\n",
      "1    C\n",
      "2    C\n",
      "3    C\n",
      "4    B\n",
      "5    A\n",
      "6    C\n",
      "7    E\n",
      "8    F\n",
      "9    B\n",
      "Name: grade, dtype: object\n",
      "---------------------------------------------------------------------------------------------------------\n",
      "\n",
      "sample data in column  sub_grade \n",
      "\n",
      "0    B2\n",
      "1    C4\n",
      "2    C5\n",
      "3    C1\n",
      "4    B5\n",
      "5    A4\n",
      "6    C5\n",
      "7    E1\n",
      "8    F2\n",
      "9    B5\n",
      "Name: sub_grade, dtype: object\n",
      "---------------------------------------------------------------------------------------------------------\n",
      "\n",
      "sample data in column  emp_length \n",
      "\n",
      "0    10+ years\n",
      "1     < 1 year\n",
      "2    10+ years\n",
      "3    10+ years\n",
      "4       1 year\n",
      "5      3 years\n",
      "6      8 years\n",
      "7      9 years\n",
      "8      4 years\n",
      "9     < 1 year\n",
      "Name: emp_length, dtype: object\n",
      "---------------------------------------------------------------------------------------------------------\n",
      "\n",
      "sample data in column  home_ownership \n",
      "\n",
      "0    RENT\n",
      "1    RENT\n",
      "2    RENT\n",
      "3    RENT\n",
      "4    RENT\n",
      "5    RENT\n",
      "6    RENT\n",
      "7    RENT\n",
      "8     OWN\n",
      "9    RENT\n",
      "Name: home_ownership, dtype: object\n",
      "---------------------------------------------------------------------------------------------------------\n",
      "\n",
      "sample data in column  verification_status \n",
      "\n",
      "0           Verified\n",
      "1    Source Verified\n",
      "2       Not Verified\n",
      "3    Source Verified\n",
      "4    Source Verified\n",
      "5    Source Verified\n",
      "6       Not Verified\n",
      "7    Source Verified\n",
      "8    Source Verified\n",
      "9           Verified\n",
      "Name: verification_status, dtype: object\n",
      "---------------------------------------------------------------------------------------------------------\n",
      "\n",
      "sample data in column  loan_status \n",
      "\n",
      "0     Fully Paid\n",
      "1    Charged Off\n",
      "2     Fully Paid\n",
      "3     Fully Paid\n",
      "4        Current\n",
      "5     Fully Paid\n",
      "6     Fully Paid\n",
      "7     Fully Paid\n",
      "8    Charged Off\n",
      "9    Charged Off\n",
      "Name: loan_status, dtype: object\n",
      "---------------------------------------------------------------------------------------------------------\n",
      "\n",
      "sample data in column  pymnt_plan \n",
      "\n",
      "0    n\n",
      "1    n\n",
      "2    n\n",
      "3    n\n",
      "4    n\n",
      "5    n\n",
      "6    n\n",
      "7    n\n",
      "8    n\n",
      "9    n\n",
      "Name: pymnt_plan, dtype: object\n",
      "---------------------------------------------------------------------------------------------------------\n",
      "\n",
      "sample data in column  purpose \n",
      "\n",
      "0           credit_card\n",
      "1                   car\n",
      "2        small_business\n",
      "3                 other\n",
      "4                 other\n",
      "5               wedding\n",
      "6    debt_consolidation\n",
      "7                   car\n",
      "8        small_business\n",
      "9                 other\n",
      "Name: purpose, dtype: object\n",
      "---------------------------------------------------------------------------------------------------------\n",
      "\n",
      "sample data in column  title \n",
      "\n",
      "0                                 Computer\n",
      "1                                     bike\n",
      "2                     real estate business\n",
      "3                                 personel\n",
      "4                                 Personal\n",
      "5    My wedding loan I promise to pay back\n",
      "6                                     Loan\n",
      "7                          Car Downpayment\n",
      "8     Expand Business & Buy Debt Portfolio\n",
      "9              Building my credit history.\n",
      "Name: title, dtype: object\n",
      "---------------------------------------------------------------------------------------------------------\n",
      "\n",
      "sample data in column  earliest_cr_line \n",
      "\n",
      "0    Jan-85\n",
      "1    Apr-99\n",
      "2    Nov-01\n",
      "3    Feb-96\n",
      "4    Jan-96\n",
      "5    Nov-04\n",
      "6    Jul-05\n",
      "7    Jan-07\n",
      "8    Apr-04\n",
      "9    Sep-04\n",
      "Name: earliest_cr_line, dtype: object\n",
      "---------------------------------------------------------------------------------------------------------\n",
      "\n",
      "sample data in column  issue_d \n",
      "\n",
      "0    Dec-11\n",
      "1    Dec-11\n",
      "2    Dec-11\n",
      "3    Dec-11\n",
      "4    Dec-11\n",
      "5    Dec-11\n",
      "6    Dec-11\n",
      "7    Dec-11\n",
      "8    Dec-11\n",
      "9    Dec-11\n",
      "Name: issue_d, dtype: object\n",
      "---------------------------------------------------------------------------------------------------------\n",
      "\n",
      "sample data in column  application_type \n",
      "\n",
      "0    INDIVIDUAL\n",
      "1    INDIVIDUAL\n",
      "2    INDIVIDUAL\n",
      "3    INDIVIDUAL\n",
      "4    INDIVIDUAL\n",
      "5    INDIVIDUAL\n",
      "6    INDIVIDUAL\n",
      "7    INDIVIDUAL\n",
      "8    INDIVIDUAL\n",
      "9    INDIVIDUAL\n",
      "Name: application_type, dtype: object\n"
     ]
    }
   ],
   "source": [
    "obj_cols = loan_df.select_dtypes(include=[\"object\"]).columns;\n",
    "\n",
    "for ocol in obj_cols:\n",
    "    print('---------------------------------------------------------------------------------------------------------\\n');\n",
    "    print('sample data in column ', ocol , '\\n');\n",
    "    print(loan_df[ocol].head(n=10));\n",
    "\n"
   ]
  },
  {
   "cell_type": "markdown",
   "metadata": {},
   "source": [
    "### convert datatypes"
   ]
  },
  {
   "cell_type": "code",
   "execution_count": 114,
   "metadata": {},
   "outputs": [],
   "source": [
    "import re\n",
    "#term column\n",
    "loan_df['term'] = loan_df['term'].apply(lambda x : re.findall(r'\\d+', x)[0]).astype('int64');\n",
    "\n"
   ]
  },
  {
   "cell_type": "code",
   "execution_count": 115,
   "metadata": {},
   "outputs": [],
   "source": [
    "#int_rate olumn\n",
    "loan_df['int_rate'] = loan_df['int_rate'].apply(lambda x : str(x).replace('%', '')).astype('float64');\n",
    "\n"
   ]
  },
  {
   "cell_type": "code",
   "execution_count": 116,
   "metadata": {},
   "outputs": [
    {
     "name": "stdout",
     "output_type": "stream",
     "text": [
      "emp_length\n",
      "10    9954\n",
      "0     4583\n",
      "2     4388\n",
      "3     4095\n",
      "4     3436\n",
      "5     3282\n",
      "1     3240\n",
      "6     2229\n",
      "7     1773\n",
      "8     1479\n",
      "9     1258\n",
      "Name: count, dtype: int64\n"
     ]
    }
   ],
   "source": [
    "#emp_length column\n",
    "#Employment length in years. Possible values are between 0 and 10 where 0 means less than one year and 10 means ten or more years. \n",
    "#Needs data correction\n",
    "loan_df['emp_length'] = loan_df['emp_length'].apply(lambda x : str(x).replace('< 1 year', '0').replace('10+ years', '10').replace('years', '').replace('year', '').strip()).astype('int64')\n",
    "print(loan_df['emp_length'].value_counts());\n"
   ]
  },
  {
   "cell_type": "code",
   "execution_count": 117,
   "metadata": {},
   "outputs": [],
   "source": [
    "import datetime\n",
    "loan_df['issue_d_month'] = loan_df['issue_d'].apply(lambda x : datetime.datetime.strptime(str(x).replace('-', ' 20'),'%b %Y').strftime('%m')).astype('int64')\n",
    "loan_df['issue_d_year'] = loan_df['issue_d'].apply(lambda x : datetime.datetime.strptime(str(x).replace('-', ' 20'),'%b %Y').strftime('%Y')).astype('int64')"
   ]
  },
  {
   "cell_type": "markdown",
   "metadata": {},
   "source": [
    "### check the missing values again"
   ]
  },
  {
   "cell_type": "code",
   "execution_count": 118,
   "metadata": {},
   "outputs": [
    {
     "name": "stdout",
     "output_type": "stream",
     "text": [
      "loan_amnt               0.0\n",
      "funded_amnt             0.0\n",
      "funded_amnt_inv         0.0\n",
      "term                    0.0\n",
      "int_rate                0.0\n",
      "installment             0.0\n",
      "grade                   0.0\n",
      "sub_grade               0.0\n",
      "emp_length              0.0\n",
      "home_ownership          0.0\n",
      "annual_inc              0.0\n",
      "verification_status     0.0\n",
      "loan_status             0.0\n",
      "pymnt_plan              0.0\n",
      "purpose                 0.0\n",
      "title                   0.0\n",
      "dti                     0.0\n",
      "earliest_cr_line        0.0\n",
      "inq_last_6mths          0.0\n",
      "open_acc                0.0\n",
      "pub_rec                 0.0\n",
      "total_acc               0.0\n",
      "pub_rec_bankruptcies    0.0\n",
      "issue_d                 0.0\n",
      "application_type        0.0\n",
      "issue_d_month           0.0\n",
      "issue_d_year            0.0\n",
      "dtype: float64\n"
     ]
    }
   ],
   "source": [
    "print(loan_df.isna().mean() * 100);"
   ]
  },
  {
   "cell_type": "markdown",
   "metadata": {},
   "source": [
    "### check the datatypes again"
   ]
  },
  {
   "cell_type": "code",
   "execution_count": 119,
   "metadata": {},
   "outputs": [
    {
     "name": "stdout",
     "output_type": "stream",
     "text": [
      "loan_amnt                 int64\n",
      "funded_amnt               int64\n",
      "funded_amnt_inv         float64\n",
      "term                      int64\n",
      "int_rate                float64\n",
      "installment             float64\n",
      "grade                    object\n",
      "sub_grade                object\n",
      "emp_length                int64\n",
      "home_ownership           object\n",
      "annual_inc              float64\n",
      "verification_status      object\n",
      "loan_status              object\n",
      "pymnt_plan               object\n",
      "purpose                  object\n",
      "title                    object\n",
      "dti                     float64\n",
      "earliest_cr_line         object\n",
      "inq_last_6mths            int64\n",
      "open_acc                  int64\n",
      "pub_rec                   int64\n",
      "total_acc                 int64\n",
      "pub_rec_bankruptcies    float64\n",
      "issue_d                  object\n",
      "application_type         object\n",
      "issue_d_month             int64\n",
      "issue_d_year              int64\n",
      "dtype: object\n"
     ]
    }
   ],
   "source": [
    "print(loan_df.dtypes)"
   ]
  },
  {
   "cell_type": "code",
   "execution_count": 120,
   "metadata": {},
   "outputs": [
    {
     "name": "stdout",
     "output_type": "stream",
     "text": [
      "<class 'pandas.core.frame.DataFrame'>\n",
      "RangeIndex: 39717 entries, 0 to 39716\n",
      "Data columns (total 27 columns):\n",
      " #   Column                Non-Null Count  Dtype  \n",
      "---  ------                --------------  -----  \n",
      " 0   loan_amnt             39717 non-null  int64  \n",
      " 1   funded_amnt           39717 non-null  int64  \n",
      " 2   funded_amnt_inv       39717 non-null  float64\n",
      " 3   term                  39717 non-null  int64  \n",
      " 4   int_rate              39717 non-null  float64\n",
      " 5   installment           39717 non-null  float64\n",
      " 6   grade                 39717 non-null  object \n",
      " 7   sub_grade             39717 non-null  object \n",
      " 8   emp_length            39717 non-null  int64  \n",
      " 9   home_ownership        39717 non-null  object \n",
      " 10  annual_inc            39717 non-null  float64\n",
      " 11  verification_status   39717 non-null  object \n",
      " 12  loan_status           39717 non-null  object \n",
      " 13  pymnt_plan            39717 non-null  object \n",
      " 14  purpose               39717 non-null  object \n",
      " 15  title                 39717 non-null  object \n",
      " 16  dti                   39717 non-null  float64\n",
      " 17  earliest_cr_line      39717 non-null  object \n",
      " 18  inq_last_6mths        39717 non-null  int64  \n",
      " 19  open_acc              39717 non-null  int64  \n",
      " 20  pub_rec               39717 non-null  int64  \n",
      " 21  total_acc             39717 non-null  int64  \n",
      " 22  pub_rec_bankruptcies  39717 non-null  float64\n",
      " 23  issue_d               39717 non-null  object \n",
      " 24  application_type      39717 non-null  object \n",
      " 25  issue_d_month         39717 non-null  int64  \n",
      " 26  issue_d_year          39717 non-null  int64  \n",
      "dtypes: float64(6), int64(10), object(11)\n",
      "memory usage: 8.2+ MB\n",
      "None\n"
     ]
    }
   ],
   "source": [
    "print(loan_df.info(verbose=1))"
   ]
  },
  {
   "cell_type": "markdown",
   "metadata": {},
   "source": [
    "### Finding outliers"
   ]
  },
  {
   "cell_type": "code",
   "execution_count": 121,
   "metadata": {},
   "outputs": [
    {
     "data": {
      "image/png": "[encoded data removed]",
      "text/plain": [
       "<Figure size 640x480 with 1 Axes>"
      ]
     },
     "metadata": {},
     "output_type": "display_data"
    }
   ],
   "source": [
    "sns.boxplot(loan_df, x = 'loan_amnt')\n",
    "plt.show()"
   ]
  },
  {
   "cell_type": "code",
   "execution_count": 122,
   "metadata": {},
   "outputs": [
    {
     "name": "stdout",
     "output_type": "stream",
     "text": [
      "count    39717.000000\n",
      "mean     11219.443815\n",
      "std       7456.670694\n",
      "min        500.000000\n",
      "25%       5500.000000\n",
      "50%      10000.000000\n",
      "75%      15000.000000\n",
      "max      35000.000000\n",
      "Name: loan_amnt, dtype: float64\n"
     ]
    }
   ],
   "source": [
    "print(loan_df['loan_amnt'].describe())"
   ]
  },
  {
   "cell_type": "markdown",
   "metadata": {},
   "source": [
    "### Not a huge value jump from 75th percentile to the max value. keeping as-is"
   ]
  },
  {
   "cell_type": "code",
   "execution_count": 123,
   "metadata": {},
   "outputs": [
    {
     "name": "stdout",
     "output_type": "stream",
     "text": [
      "0.90    22000.0\n",
      "0.97    30000.0\n",
      "1.00    35000.0\n",
      "Name: loan_amnt, dtype: float64\n"
     ]
    }
   ],
   "source": [
    "loan_amnt_quantiles = loan_df['loan_amnt'].quantile([0.90, 0.97, 1])\n",
    "print(loan_amnt_quantiles)"
   ]
  },
  {
   "cell_type": "code",
   "execution_count": 124,
   "metadata": {},
   "outputs": [
    {
     "data": {
      "image/png": "[encoded data removed]",
      "text/plain": [
       "<Figure size 640x480 with 1 Axes>"
      ]
     },
     "metadata": {},
     "output_type": "display_data"
    }
   ],
   "source": [
    "#funded_amnt\n",
    "sns.boxplot(loan_df, x='funded_amnt')\n",
    "plt.show()"
   ]
  },
  {
   "cell_type": "code",
   "execution_count": 125,
   "metadata": {},
   "outputs": [
    {
     "name": "stdout",
     "output_type": "stream",
     "text": [
      "count    39717.000000\n",
      "mean     10947.713196\n",
      "std       7187.238670\n",
      "min        500.000000\n",
      "25%       5400.000000\n",
      "50%       9600.000000\n",
      "75%      15000.000000\n",
      "max      35000.000000\n",
      "Name: funded_amnt, dtype: float64\n"
     ]
    }
   ],
   "source": [
    "print(loan_df['funded_amnt'].describe())"
   ]
  },
  {
   "cell_type": "code",
   "execution_count": 126,
   "metadata": {},
   "outputs": [
    {
     "data": {
      "image/png": "[encoded data removed]",
      "text/plain": [
       "<Figure size 640x480 with 1 Axes>"
      ]
     },
     "metadata": {},
     "output_type": "display_data"
    },
    {
     "name": "stdout",
     "output_type": "stream",
     "text": [
      "count    39717.000000\n",
      "mean     10397.448868\n",
      "std       7128.450439\n",
      "min          0.000000\n",
      "25%       5000.000000\n",
      "50%       8975.000000\n",
      "75%      14400.000000\n",
      "max      35000.000000\n",
      "Name: funded_amnt_inv, dtype: float64\n"
     ]
    }
   ],
   "source": [
    "sns.boxplot(loan_df, x='funded_amnt_inv')\n",
    "plt.show()\n",
    "print(loan_df['funded_amnt_inv'].describe())"
   ]
  },
  {
   "cell_type": "code",
   "execution_count": 127,
   "metadata": {},
   "outputs": [
    {
     "data": {
      "image/png": "[encoded data removed]",
      "text/plain": [
       "<Figure size 640x480 with 1 Axes>"
      ]
     },
     "metadata": {},
     "output_type": "display_data"
    },
    {
     "name": "stdout",
     "output_type": "stream",
     "text": [
      "count    3.971700e+04\n",
      "mean     6.896893e+04\n",
      "std      6.379377e+04\n",
      "min      4.000000e+03\n",
      "25%      4.040400e+04\n",
      "50%      5.900000e+04\n",
      "75%      8.230000e+04\n",
      "max      6.000000e+06\n",
      "Name: annual_inc, dtype: float64\n"
     ]
    }
   ],
   "source": [
    "sns.boxplot(loan_df, x='annual_inc')\n",
    "plt.show()\n",
    "print(loan_df['annual_inc'].describe())"
   ]
  },
  {
   "cell_type": "markdown",
   "metadata": {},
   "source": [
    "### annual income distribution is not continuous in nature beyond 1000000 mark. Needs further analysis"
   ]
  },
  {
   "cell_type": "code",
   "execution_count": 128,
   "metadata": {},
   "outputs": [
    {
     "name": "stdout",
     "output_type": "stream",
     "text": [
      "0.50      59000.00\n",
      "0.75      82300.00\n",
      "0.90     116000.00\n",
      "0.95     142000.00\n",
      "0.98     187000.00\n",
      "0.99     234999.36\n",
      "1.00    6000000.00\n",
      "Name: annual_inc, dtype: float64\n"
     ]
    }
   ],
   "source": [
    "annual_inc_quantiles = loan_df['annual_inc'].quantile([0.50, 0.75, 0.90, 0.95, 0.98, 0.99 , 1])\n",
    "print(annual_inc_quantiles)"
   ]
  },
  {
   "cell_type": "markdown",
   "metadata": {},
   "source": [
    "### Huge jump after the 95th Percentile. So keeping data till 95th percentile only"
   ]
  },
  {
   "cell_type": "code",
   "execution_count": 129,
   "metadata": {},
   "outputs": [],
   "source": [
    "loan_df = loan_df[loan_df['annual_inc'] <= loan_df['annual_inc'].quantile(0.95)]\n"
   ]
  },
  {
   "cell_type": "code",
   "execution_count": 130,
   "metadata": {},
   "outputs": [
    {
     "data": {
      "image/png": "[encoded data removed]",
      "text/plain": [
       "<Figure size 640x480 with 1 Axes>"
      ]
     },
     "metadata": {},
     "output_type": "display_data"
    }
   ],
   "source": [
    "sns.boxplot(loan_df, x='annual_inc')\n",
    "plt.show()"
   ]
  },
  {
   "cell_type": "markdown",
   "metadata": {},
   "source": [
    "### Save the cleaned dataset to csv file\n"
   ]
  },
  {
   "cell_type": "code",
   "execution_count": 131,
   "metadata": {},
   "outputs": [],
   "source": [
    "loan_df.to_csv(\"loan_cleaned_dataset.csv\", index=False)"
   ]
  },
  {
   "cell_type": "markdown",
   "metadata": {},
   "source": [
    "## Univariate Analysis\n"
   ]
  },
  {
   "cell_type": "code",
   "execution_count": 132,
   "metadata": {},
   "outputs": [
    {
     "data": {
      "image/png": "[encoded data removed]",
      "text/plain": [
       "<Figure size 640x480 with 1 Axes>"
      ]
     },
     "metadata": {},
     "output_type": "display_data"
    }
   ],
   "source": [
    "sns.histplot(loan_df, x='loan_status')\n",
    "plt.show()"
   ]
  },
  {
   "cell_type": "markdown",
   "metadata": {},
   "source": [
    "### Out of the 3 categrories in the above that, we are only considering the charged-off cases for univariate analysis to determine which variable may cause a loan to default"
   ]
  },
  {
   "cell_type": "code",
   "execution_count": 133,
   "metadata": {},
   "outputs": [],
   "source": [
    "charged_off = loan_df[loan_df['loan_status'] == 'Charged Off' ]"
   ]
  },
  {
   "cell_type": "code",
   "execution_count": 134,
   "metadata": {},
   "outputs": [
    {
     "data": {
      "image/png": "[encoded data removed]",
      "text/plain": [
       "<Figure size 640x480 with 1 Axes>"
      ]
     },
     "metadata": {},
     "output_type": "display_data"
    }
   ],
   "source": [
    "sns.countplot(x ='home_ownership', data = charged_off)\n",
    "plt.show()"
   ]
  },
  {
   "cell_type": "code",
   "execution_count": 135,
   "metadata": {},
   "outputs": [
    {
     "data": {
      "image/png": "[encoded data removed]",
      "text/plain": [
       "<Figure size 640x480 with 1 Axes>"
      ]
     },
     "metadata": {},
     "output_type": "display_data"
    }
   ],
   "source": [
    "sns.countplot(x ='term', data = charged_off, palette = \"Set2\")\n",
    "plt.show()"
   ]
  },
  {
   "cell_type": "code",
   "execution_count": 136,
   "metadata": {},
   "outputs": [
    {
     "data": {
      "image/png": "[encoded data removed]",
      "text/plain": [
       "<Figure size 640x480 with 1 Axes>"
      ]
     },
     "metadata": {},
     "output_type": "display_data"
    }
   ],
   "source": [
    "sns.countplot(y ='purpose', data = charged_off )\n",
    "plt.show()"
   ]
  },
  {
   "cell_type": "code",
   "execution_count": 137,
   "metadata": {},
   "outputs": [
    {
     "data": {
      "image/png": "[encoded data removed]",
      "text/plain": [
       "<Figure size 640x480 with 1 Axes>"
      ]
     },
     "metadata": {},
     "output_type": "display_data"
    }
   ],
   "source": [
    "sns.histplot(charged_off, x = 'annual_inc', bins=15);\n",
    "\n",
    "\n"
   ]
  },
  {
   "cell_type": "code",
   "execution_count": 138,
   "metadata": {},
   "outputs": [
    {
     "data": {
      "image/png": "[encoded data removed]",
      "text/plain": [
       "<Figure size 640x480 with 1 Axes>"
      ]
     },
     "metadata": {},
     "output_type": "display_data"
    }
   ],
   "source": [
    "sns.histplot(charged_off, x = 'loan_amnt', bins=15, kde=True) \n",
    "plt.show()"
   ]
  },
  {
   "cell_type": "markdown",
   "metadata": {},
   "source": [
    "### int_rate analysis"
   ]
  },
  {
   "cell_type": "markdown",
   "metadata": {},
   "source": [
    "### dti analysis"
   ]
  },
  {
   "cell_type": "markdown",
   "metadata": {},
   "source": [
    "### emp_length"
   ]
  },
  {
   "cell_type": "code",
   "execution_count": 139,
   "metadata": {},
   "outputs": [
    {
     "name": "stdout",
     "output_type": "stream",
     "text": [
      "grade\n",
      "B    1378\n",
      "C    1325\n",
      "D    1081\n",
      "E     660\n",
      "A     593\n",
      "F     289\n",
      "G      95\n",
      "Name: count, dtype: int64\n"
     ]
    },
    {
     "data": {
      "image/png": "[encoded data removed]",
      "text/plain": [
       "<Figure size 640x480 with 1 Axes>"
      ]
     },
     "metadata": {},
     "output_type": "display_data"
    }
   ],
   "source": [
    "print(charged_off['grade'].value_counts())\n",
    "\n",
    "sns.countplot(charged_off, x = 'grade', order=['A', 'B', 'C', 'D', 'E', 'F', 'G'], palette='Accent_r') \n",
    "plt.show()"
   ]
  },
  {
   "cell_type": "code",
   "execution_count": 140,
   "metadata": {},
   "outputs": [
    {
     "data": {
      "image/png": "[encoded data removed]",
      "text/plain": [
       "<Figure size 640x480 with 1 Axes>"
      ]
     },
     "metadata": {},
     "output_type": "display_data"
    }
   ],
   "source": [
    "\n",
    "sns.countplot(charged_off, x = 'issue_d_month', palette='Accent_r') \n",
    "plt.show()"
   ]
  }
 ],
 "metadata": {
  "kernelspec": {
   "display_name": "Python 3",
   "language": "python",
   "name": "python3"
  },
  "language_info": {
   "codemirror_mode": {
    "name": "ipython",
    "version": 3
   },
   "file_extension": ".py",
   "mimetype": "text/x-python",
   "name": "python",
   "nbconvert_exporter": "python",
   "pygments_lexer": "ipython3",
   "version": "3.12.6"
  }
 },
 "nbformat": 4,
 "nbformat_minor": 2
}
